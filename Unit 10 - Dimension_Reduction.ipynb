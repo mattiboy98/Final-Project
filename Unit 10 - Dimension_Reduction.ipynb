{
 "cells": [
  {
   "cell_type": "markdown",
   "metadata": {},
   "source": [
    "Dimension Reduction: converting a large set of data with large number of dimensions to fewer dimensions ensuring that it conveys the information concisely"
   ]
  },
  {
   "cell_type": "markdown",
   "metadata": {},
   "source": [
    "Four V's of big data: Volume, velocity, variety, veracity. DR focuses on Volume and Velocity"
   ]
  },
  {
   "cell_type": "markdown",
   "metadata": {},
   "source": [
    "Colinearity: determines whether or not to drop variables"
   ]
  },
  {
   "cell_type": "code",
   "execution_count": null,
   "metadata": {},
   "outputs": [],
   "source": []
  },
  {
   "cell_type": "markdown",
   "metadata": {},
   "source": [
    "Missing Values: Potentially drop a variable altogether if there is too much missing data. Can impute values as well."
   ]
  },
  {
   "cell_type": "code",
   "execution_count": null,
   "metadata": {},
   "outputs": [],
   "source": []
  },
  {
   "cell_type": "markdown",
   "metadata": {},
   "source": [
    "# Feature Selection and Dimension Reduction\n",
    "\n",
    "* Beginners Guide To Dimension Reduction Techniques: https://www.analyticsvidhya.com/blog/2015/07/dimension-reduction-methods/\n",
    "* Feature Selection For Machine Learning in Python: https://machinelearningmastery.com/feature-selection-machine-learning-python/\n",
    "* The Ultimate Guide to 12 Dimensionality Reduction Techniques: https://www.analyticsvidhya.com/blog/2018/08/dimensionality-reduction-techniques-python/\n",
    "* PCA using Python (scikit-learn): https://towardsdatascience.com/pca-using-python-scikit-learn-e653f8989e60\n"
   ]
  },
  {
   "cell_type": "code",
   "execution_count": 7,
   "metadata": {},
   "outputs": [],
   "source": [
    "%matplotlib inline\n",
    "import numpy as np              \n",
    "import pandas as pd"
   ]
  },
  {
   "cell_type": "code",
   "execution_count": 8,
   "metadata": {
    "scrolled": true
   },
   "outputs": [
    {
     "data": {
      "text/plain": [
       "<matplotlib.axes._subplots.AxesSubplot at 0x115d432d0>"
      ]
     },
     "execution_count": 8,
     "metadata": {},
     "output_type": "execute_result"
    },
    {
     "data": {
      "image/png": "[encoded data removed]",
      "text/plain": [
       "<Figure size 432x288 with 1 Axes>"
      ]
     },
     "metadata": {
      "needs_background": "light"
     },
     "output_type": "display_data"
    }
   ],
   "source": [
    "df = pd.read_csv(\"diabetes.csv\")\n",
    "df.plot.scatter(x='weight', y='waist')"
   ]
  },
  {
   "cell_type": "code",
   "execution_count": null,
   "metadata": {},
   "outputs": [],
   "source": [
    "import seaborn as sns\n",
    "sns.lmplot(x='weight',y='waist',data=df,fit_reg=True) "
   ]
  },
  {
   "cell_type": "code",
   "execution_count": null,
   "metadata": {},
   "outputs": [],
   "source": []
  },
  {
   "cell_type": "markdown",
   "metadata": {},
   "source": [
    "## Missing Values"
   ]
  },
  {
   "cell_type": "code",
   "execution_count": 9,
   "metadata": {},
   "outputs": [
    {
     "data": {
      "text/plain": [
       "id                  0\n",
       "chol                1\n",
       "stab.glu            0\n",
       "hdl                 1\n",
       "ratio               1\n",
       "glyhb              13\n",
       "location            0\n",
       "age                 0\n",
       "gender              0\n",
       "height              5\n",
       "weight              1\n",
       "frame              12\n",
       "bp.1s             382\n",
       "bp.1d             382\n",
       "waist               2\n",
       "hip                 2\n",
       "wellness_score      0\n",
       "dtype: int64"
      ]
     },
     "execution_count": 9,
     "metadata": {},
     "output_type": "execute_result"
    }
   ],
   "source": [
    "df = pd.read_csv(\"diabetes_missing_vals.csv\")\n",
    "\n",
    "# Let's look at how many missing values we have in our dataset\n",
    "df.isnull().sum()"
   ]
  },
  {
   "cell_type": "code",
   "execution_count": 10,
   "metadata": {},
   "outputs": [
    {
     "data": {
      "text/plain": [
       "(403, 17)"
      ]
     },
     "execution_count": 10,
     "metadata": {},
     "output_type": "execute_result"
    }
   ],
   "source": [
    "# Looking at the shape of our dataframe will allow us to see a total number of records\n",
    "df.shape"
   ]
  },
  {
   "cell_type": "code",
   "execution_count": 11,
   "metadata": {
    "collapsed": true
   },
   "outputs": [
    {
     "data": {
      "text/plain": [
       "id                0.000000\n",
       "chol              0.002481\n",
       "stab.glu          0.000000\n",
       "hdl               0.002481\n",
       "ratio             0.002481\n",
       "glyhb             0.032258\n",
       "location          0.000000\n",
       "age               0.000000\n",
       "gender            0.000000\n",
       "height            0.012407\n",
       "weight            0.002481\n",
       "frame             0.029777\n",
       "bp.1s             0.947891\n",
       "bp.1d             0.947891\n",
       "waist             0.004963\n",
       "hip               0.004963\n",
       "wellness_score    0.000000\n",
       "dtype: float64"
      ]
     },
     "execution_count": 11,
     "metadata": {},
     "output_type": "execute_result"
    }
   ],
   "source": [
    "# Calculate the percentage of missing values\n",
    "df.isnull().sum() / df.shape[0]"
   ]
  },
  {
   "cell_type": "markdown",
   "metadata": {},
   "source": [
    "With such a high amount of missing values in \"bp.1s\" and \"bp.1d\", we can consider dropping these predictors"
   ]
  },
  {
   "cell_type": "code",
   "execution_count": null,
   "metadata": {},
   "outputs": [],
   "source": []
  },
  {
   "cell_type": "markdown",
   "metadata": {},
   "source": [
    "## Low Variance\n",
    "* A constant variable (all observations have same value)\n",
    "* It cannot improve the power of model it has zero variance. \n",
    "* We should drop variables that have low variance compared to others because these variables will not explain the variation in response variables.\n"
   ]
  },
  {
   "cell_type": "code",
   "execution_count": 12,
   "metadata": {},
   "outputs": [
    {
     "data": {
      "text/plain": [
       "id                11881.122124\n",
       "chol                 44.445557\n",
       "stab.glu             53.076655\n",
       "hdl                  17.262626\n",
       "ratio                 1.727886\n",
       "glyhb                 2.242595\n",
       "age                  16.312333\n",
       "height                3.918515\n",
       "weight               40.340666\n",
       "bp.1s                30.962189\n",
       "bp.1d                14.672780\n",
       "waist                 5.729313\n",
       "hip                   5.656713\n",
       "wellness_score        0.000050\n",
       "dtype: float64"
      ]
     },
     "execution_count": 12,
     "metadata": {},
     "output_type": "execute_result"
    }
   ],
   "source": [
    "#df.std()\n",
    "#consider as well\n",
    "\n",
    "df.std()"
   ]
  },
  {
   "cell_type": "code",
   "execution_count": 15,
   "metadata": {},
   "outputs": [
    {
     "data": {
      "text/plain": [
       "id                1.411611e+08\n",
       "chol              1.975408e+03\n",
       "stab.glu          2.817131e+03\n",
       "hdl               2.979982e+02\n",
       "ratio             2.985590e+00\n",
       "glyhb             5.029232e+00\n",
       "age               2.660922e+02\n",
       "height            1.535476e+01\n",
       "weight            1.627369e+03\n",
       "bp.1s             9.586571e+02\n",
       "bp.1d             2.152905e+02\n",
       "waist             3.282502e+01\n",
       "hip               3.199840e+01\n",
       "wellness_score    2.483373e-09\n",
       "dtype: float64"
      ]
     },
     "execution_count": 15,
     "metadata": {},
     "output_type": "execute_result"
    }
   ],
   "source": [
    "# We see that there is barely any variance among wellness_scores across patients\n",
    "df.var()"
   ]
  },
  {
   "cell_type": "markdown",
   "metadata": {},
   "source": [
    "We could consider removing wellness score"
   ]
  },
  {
   "cell_type": "code",
   "execution_count": 13,
   "metadata": {},
   "outputs": [
    {
     "data": {
      "text/plain": [
       "female    401\n",
       "male        2\n",
       "Name: gender, dtype: int64"
      ]
     },
     "execution_count": 13,
     "metadata": {},
     "output_type": "execute_result"
    }
   ],
   "source": [
    "df[\"gender\"].value_counts()"
   ]
  },
  {
   "cell_type": "markdown",
   "metadata": {},
   "source": [
    "With \"gender\" having only 2 male points, then you can remove the 2 instances (rows) with males and move the \"gender\" variables"
   ]
  },
  {
   "cell_type": "code",
   "execution_count": null,
   "metadata": {},
   "outputs": [],
   "source": []
  },
  {
   "cell_type": "markdown",
   "metadata": {},
   "source": [
    "## Collinearity\n",
    "* Variables (dimensions) with similar information or variation are called “Multicollinear”. \n",
    "* Dimensions exhibiting higher correlation can lower down the performance of model. \n",
    "* It is not good to have multiple variables of similar information or variation \n",
    "\n"
   ]
  },
  {
   "cell_type": "code",
   "execution_count": 16,
   "metadata": {
    "collapsed": true
   },
   "outputs": [
    {
     "data": {
      "text/html": [
       "<div>\n",
       "<style scoped>\n",
       "    .dataframe tbody tr th:only-of-type {\n",
       "        vertical-align: middle;\n",
       "    }\n",
       "\n",
       "    .dataframe tbody tr th {\n",
       "        vertical-align: top;\n",
       "    }\n",
       "\n",
       "    .dataframe thead th {\n",
       "        text-align: right;\n",
       "    }\n",
       "</style>\n",
       "<table border=\"1\" class=\"dataframe\">\n",
       "  <thead>\n",
       "    <tr style=\"text-align: right;\">\n",
       "      <th></th>\n",
       "      <th>id</th>\n",
       "      <th>chol</th>\n",
       "      <th>stab.glu</th>\n",
       "      <th>hdl</th>\n",
       "      <th>ratio</th>\n",
       "      <th>glyhb</th>\n",
       "      <th>location</th>\n",
       "      <th>age</th>\n",
       "      <th>gender</th>\n",
       "      <th>height</th>\n",
       "      <th>weight</th>\n",
       "      <th>frame</th>\n",
       "      <th>bp.1s</th>\n",
       "      <th>bp.1d</th>\n",
       "      <th>waist</th>\n",
       "      <th>hip</th>\n",
       "    </tr>\n",
       "  </thead>\n",
       "  <tbody>\n",
       "    <tr>\n",
       "      <th>0</th>\n",
       "      <td>1000</td>\n",
       "      <td>203.0</td>\n",
       "      <td>82</td>\n",
       "      <td>56.0</td>\n",
       "      <td>3.6</td>\n",
       "      <td>4.31</td>\n",
       "      <td>Buckingham</td>\n",
       "      <td>46</td>\n",
       "      <td>female</td>\n",
       "      <td>62.0</td>\n",
       "      <td>121.0</td>\n",
       "      <td>medium</td>\n",
       "      <td>118.0</td>\n",
       "      <td>59.0</td>\n",
       "      <td>29.0</td>\n",
       "      <td>38.0</td>\n",
       "    </tr>\n",
       "    <tr>\n",
       "      <th>1</th>\n",
       "      <td>1001</td>\n",
       "      <td>165.0</td>\n",
       "      <td>97</td>\n",
       "      <td>24.0</td>\n",
       "      <td>6.9</td>\n",
       "      <td>4.44</td>\n",
       "      <td>Buckingham</td>\n",
       "      <td>29</td>\n",
       "      <td>female</td>\n",
       "      <td>64.0</td>\n",
       "      <td>218.0</td>\n",
       "      <td>large</td>\n",
       "      <td>112.0</td>\n",
       "      <td>68.0</td>\n",
       "      <td>46.0</td>\n",
       "      <td>48.0</td>\n",
       "    </tr>\n",
       "    <tr>\n",
       "      <th>2</th>\n",
       "      <td>1002</td>\n",
       "      <td>228.0</td>\n",
       "      <td>92</td>\n",
       "      <td>37.0</td>\n",
       "      <td>6.2</td>\n",
       "      <td>4.64</td>\n",
       "      <td>Buckingham</td>\n",
       "      <td>58</td>\n",
       "      <td>female</td>\n",
       "      <td>61.0</td>\n",
       "      <td>256.0</td>\n",
       "      <td>large</td>\n",
       "      <td>190.0</td>\n",
       "      <td>92.0</td>\n",
       "      <td>49.0</td>\n",
       "      <td>57.0</td>\n",
       "    </tr>\n",
       "    <tr>\n",
       "      <th>3</th>\n",
       "      <td>1003</td>\n",
       "      <td>78.0</td>\n",
       "      <td>93</td>\n",
       "      <td>12.0</td>\n",
       "      <td>6.5</td>\n",
       "      <td>4.63</td>\n",
       "      <td>Buckingham</td>\n",
       "      <td>67</td>\n",
       "      <td>male</td>\n",
       "      <td>67.0</td>\n",
       "      <td>119.0</td>\n",
       "      <td>large</td>\n",
       "      <td>110.0</td>\n",
       "      <td>50.0</td>\n",
       "      <td>33.0</td>\n",
       "      <td>38.0</td>\n",
       "    </tr>\n",
       "    <tr>\n",
       "      <th>4</th>\n",
       "      <td>1005</td>\n",
       "      <td>249.0</td>\n",
       "      <td>90</td>\n",
       "      <td>28.0</td>\n",
       "      <td>8.9</td>\n",
       "      <td>7.72</td>\n",
       "      <td>Buckingham</td>\n",
       "      <td>64</td>\n",
       "      <td>male</td>\n",
       "      <td>68.0</td>\n",
       "      <td>183.0</td>\n",
       "      <td>medium</td>\n",
       "      <td>138.0</td>\n",
       "      <td>80.0</td>\n",
       "      <td>44.0</td>\n",
       "      <td>41.0</td>\n",
       "    </tr>\n",
       "  </tbody>\n",
       "</table>\n",
       "</div>"
      ],
      "text/plain": [
       "     id   chol  stab.glu   hdl  ratio  glyhb    location age  gender  height  \\\n",
       "0  1000  203.0        82  56.0    3.6   4.31  Buckingham  46  female    62.0   \n",
       "1  1001  165.0        97  24.0    6.9   4.44  Buckingham  29  female    64.0   \n",
       "2  1002  228.0        92  37.0    6.2   4.64  Buckingham  58  female    61.0   \n",
       "3  1003   78.0        93  12.0    6.5   4.63  Buckingham  67    male    67.0   \n",
       "4  1005  249.0        90  28.0    8.9   7.72  Buckingham  64    male    68.0   \n",
       "\n",
       "   weight   frame  bp.1s  bp.1d  waist   hip  \n",
       "0   121.0  medium  118.0   59.0   29.0  38.0  \n",
       "1   218.0   large  112.0   68.0   46.0  48.0  \n",
       "2   256.0   large  190.0   92.0   49.0  57.0  \n",
       "3   119.0   large  110.0   50.0   33.0  38.0  \n",
       "4   183.0  medium  138.0   80.0   44.0  41.0  "
      ]
     },
     "execution_count": 16,
     "metadata": {},
     "output_type": "execute_result"
    }
   ],
   "source": [
    "df = pd.read_csv(\"diabetes.csv\")\n",
    "df.head()"
   ]
  },
  {
   "cell_type": "code",
   "execution_count": 17,
   "metadata": {
    "collapsed": true
   },
   "outputs": [
    {
     "data": {
      "text/html": [
       "<div>\n",
       "<style scoped>\n",
       "    .dataframe tbody tr th:only-of-type {\n",
       "        vertical-align: middle;\n",
       "    }\n",
       "\n",
       "    .dataframe tbody tr th {\n",
       "        vertical-align: top;\n",
       "    }\n",
       "\n",
       "    .dataframe thead th {\n",
       "        text-align: right;\n",
       "    }\n",
       "</style>\n",
       "<table border=\"1\" class=\"dataframe\">\n",
       "  <thead>\n",
       "    <tr style=\"text-align: right;\">\n",
       "      <th></th>\n",
       "      <th>id</th>\n",
       "      <th>chol</th>\n",
       "      <th>stab.glu</th>\n",
       "      <th>hdl</th>\n",
       "      <th>ratio</th>\n",
       "      <th>glyhb</th>\n",
       "      <th>height</th>\n",
       "      <th>weight</th>\n",
       "      <th>bp.1s</th>\n",
       "      <th>bp.1d</th>\n",
       "      <th>waist</th>\n",
       "      <th>hip</th>\n",
       "    </tr>\n",
       "  </thead>\n",
       "  <tbody>\n",
       "    <tr>\n",
       "      <th>id</th>\n",
       "      <td>1.000000</td>\n",
       "      <td>0.059243</td>\n",
       "      <td>0.009315</td>\n",
       "      <td>0.059255</td>\n",
       "      <td>-0.034094</td>\n",
       "      <td>0.010378</td>\n",
       "      <td>-0.036948</td>\n",
       "      <td>-0.018658</td>\n",
       "      <td>0.013715</td>\n",
       "      <td>0.084001</td>\n",
       "      <td>-0.008123</td>\n",
       "      <td>0.048658</td>\n",
       "    </tr>\n",
       "    <tr>\n",
       "      <th>chol</th>\n",
       "      <td>0.059243</td>\n",
       "      <td>1.000000</td>\n",
       "      <td>0.150092</td>\n",
       "      <td>0.186581</td>\n",
       "      <td>0.475521</td>\n",
       "      <td>0.247099</td>\n",
       "      <td>-0.058858</td>\n",
       "      <td>0.066889</td>\n",
       "      <td>0.203344</td>\n",
       "      <td>0.171605</td>\n",
       "      <td>0.124489</td>\n",
       "      <td>0.079402</td>\n",
       "    </tr>\n",
       "    <tr>\n",
       "      <th>stab.glu</th>\n",
       "      <td>0.009315</td>\n",
       "      <td>0.150092</td>\n",
       "      <td>1.000000</td>\n",
       "      <td>-0.161899</td>\n",
       "      <td>0.280349</td>\n",
       "      <td>0.749236</td>\n",
       "      <td>0.090669</td>\n",
       "      <td>0.185453</td>\n",
       "      <td>0.166467</td>\n",
       "      <td>0.022014</td>\n",
       "      <td>0.218446</td>\n",
       "      <td>0.133502</td>\n",
       "    </tr>\n",
       "    <tr>\n",
       "      <th>hdl</th>\n",
       "      <td>0.059255</td>\n",
       "      <td>0.186581</td>\n",
       "      <td>-0.161899</td>\n",
       "      <td>1.000000</td>\n",
       "      <td>-0.686907</td>\n",
       "      <td>-0.149145</td>\n",
       "      <td>-0.101419</td>\n",
       "      <td>-0.290983</td>\n",
       "      <td>0.019804</td>\n",
       "      <td>0.065732</td>\n",
       "      <td>-0.268369</td>\n",
       "      <td>-0.210060</td>\n",
       "    </tr>\n",
       "    <tr>\n",
       "      <th>ratio</th>\n",
       "      <td>-0.034094</td>\n",
       "      <td>0.475521</td>\n",
       "      <td>0.280349</td>\n",
       "      <td>-0.686907</td>\n",
       "      <td>1.000000</td>\n",
       "      <td>0.328665</td>\n",
       "      <td>0.094335</td>\n",
       "      <td>0.281649</td>\n",
       "      <td>0.119386</td>\n",
       "      <td>0.048193</td>\n",
       "      <td>0.304162</td>\n",
       "      <td>0.194622</td>\n",
       "    </tr>\n",
       "    <tr>\n",
       "      <th>glyhb</th>\n",
       "      <td>0.010378</td>\n",
       "      <td>0.247099</td>\n",
       "      <td>0.749236</td>\n",
       "      <td>-0.149145</td>\n",
       "      <td>0.328665</td>\n",
       "      <td>1.000000</td>\n",
       "      <td>0.063023</td>\n",
       "      <td>0.171882</td>\n",
       "      <td>0.197936</td>\n",
       "      <td>0.032375</td>\n",
       "      <td>0.226184</td>\n",
       "      <td>0.141401</td>\n",
       "    </tr>\n",
       "    <tr>\n",
       "      <th>height</th>\n",
       "      <td>-0.036948</td>\n",
       "      <td>-0.058858</td>\n",
       "      <td>0.090669</td>\n",
       "      <td>-0.101419</td>\n",
       "      <td>0.094335</td>\n",
       "      <td>0.063023</td>\n",
       "      <td>1.000000</td>\n",
       "      <td>0.251251</td>\n",
       "      <td>-0.047827</td>\n",
       "      <td>0.038598</td>\n",
       "      <td>0.051094</td>\n",
       "      <td>-0.107832</td>\n",
       "    </tr>\n",
       "    <tr>\n",
       "      <th>weight</th>\n",
       "      <td>-0.018658</td>\n",
       "      <td>0.066889</td>\n",
       "      <td>0.185453</td>\n",
       "      <td>-0.290983</td>\n",
       "      <td>0.281649</td>\n",
       "      <td>0.171882</td>\n",
       "      <td>0.251251</td>\n",
       "      <td>1.000000</td>\n",
       "      <td>0.090873</td>\n",
       "      <td>0.175956</td>\n",
       "      <td>0.849855</td>\n",
       "      <td>0.829115</td>\n",
       "    </tr>\n",
       "    <tr>\n",
       "      <th>bp.1s</th>\n",
       "      <td>0.013715</td>\n",
       "      <td>0.203344</td>\n",
       "      <td>0.166467</td>\n",
       "      <td>0.019804</td>\n",
       "      <td>0.119386</td>\n",
       "      <td>0.197936</td>\n",
       "      <td>-0.047827</td>\n",
       "      <td>0.090873</td>\n",
       "      <td>1.000000</td>\n",
       "      <td>0.596557</td>\n",
       "      <td>0.196489</td>\n",
       "      <td>0.136655</td>\n",
       "    </tr>\n",
       "    <tr>\n",
       "      <th>bp.1d</th>\n",
       "      <td>0.084001</td>\n",
       "      <td>0.171605</td>\n",
       "      <td>0.022014</td>\n",
       "      <td>0.065732</td>\n",
       "      <td>0.048193</td>\n",
       "      <td>0.032375</td>\n",
       "      <td>0.038598</td>\n",
       "      <td>0.175956</td>\n",
       "      <td>0.596557</td>\n",
       "      <td>1.000000</td>\n",
       "      <td>0.167110</td>\n",
       "      <td>0.145805</td>\n",
       "    </tr>\n",
       "    <tr>\n",
       "      <th>waist</th>\n",
       "      <td>-0.008123</td>\n",
       "      <td>0.124489</td>\n",
       "      <td>0.218446</td>\n",
       "      <td>-0.268369</td>\n",
       "      <td>0.304162</td>\n",
       "      <td>0.226184</td>\n",
       "      <td>0.051094</td>\n",
       "      <td>0.849855</td>\n",
       "      <td>0.196489</td>\n",
       "      <td>0.167110</td>\n",
       "      <td>1.000000</td>\n",
       "      <td>0.837080</td>\n",
       "    </tr>\n",
       "    <tr>\n",
       "      <th>hip</th>\n",
       "      <td>0.048658</td>\n",
       "      <td>0.079402</td>\n",
       "      <td>0.133502</td>\n",
       "      <td>-0.210060</td>\n",
       "      <td>0.194622</td>\n",
       "      <td>0.141401</td>\n",
       "      <td>-0.107832</td>\n",
       "      <td>0.829115</td>\n",
       "      <td>0.136655</td>\n",
       "      <td>0.145805</td>\n",
       "      <td>0.837080</td>\n",
       "      <td>1.000000</td>\n",
       "    </tr>\n",
       "  </tbody>\n",
       "</table>\n",
       "</div>"
      ],
      "text/plain": [
       "                id      chol  stab.glu       hdl     ratio     glyhb  \\\n",
       "id        1.000000  0.059243  0.009315  0.059255 -0.034094  0.010378   \n",
       "chol      0.059243  1.000000  0.150092  0.186581  0.475521  0.247099   \n",
       "stab.glu  0.009315  0.150092  1.000000 -0.161899  0.280349  0.749236   \n",
       "hdl       0.059255  0.186581 -0.161899  1.000000 -0.686907 -0.149145   \n",
       "ratio    -0.034094  0.475521  0.280349 -0.686907  1.000000  0.328665   \n",
       "glyhb     0.010378  0.247099  0.749236 -0.149145  0.328665  1.000000   \n",
       "height   -0.036948 -0.058858  0.090669 -0.101419  0.094335  0.063023   \n",
       "weight   -0.018658  0.066889  0.185453 -0.290983  0.281649  0.171882   \n",
       "bp.1s     0.013715  0.203344  0.166467  0.019804  0.119386  0.197936   \n",
       "bp.1d     0.084001  0.171605  0.022014  0.065732  0.048193  0.032375   \n",
       "waist    -0.008123  0.124489  0.218446 -0.268369  0.304162  0.226184   \n",
       "hip       0.048658  0.079402  0.133502 -0.210060  0.194622  0.141401   \n",
       "\n",
       "            height    weight     bp.1s     bp.1d     waist       hip  \n",
       "id       -0.036948 -0.018658  0.013715  0.084001 -0.008123  0.048658  \n",
       "chol     -0.058858  0.066889  0.203344  0.171605  0.124489  0.079402  \n",
       "stab.glu  0.090669  0.185453  0.166467  0.022014  0.218446  0.133502  \n",
       "hdl      -0.101419 -0.290983  0.019804  0.065732 -0.268369 -0.210060  \n",
       "ratio     0.094335  0.281649  0.119386  0.048193  0.304162  0.194622  \n",
       "glyhb     0.063023  0.171882  0.197936  0.032375  0.226184  0.141401  \n",
       "height    1.000000  0.251251 -0.047827  0.038598  0.051094 -0.107832  \n",
       "weight    0.251251  1.000000  0.090873  0.175956  0.849855  0.829115  \n",
       "bp.1s    -0.047827  0.090873  1.000000  0.596557  0.196489  0.136655  \n",
       "bp.1d     0.038598  0.175956  0.596557  1.000000  0.167110  0.145805  \n",
       "waist     0.051094  0.849855  0.196489  0.167110  1.000000  0.837080  \n",
       "hip      -0.107832  0.829115  0.136655  0.145805  0.837080  1.000000  "
      ]
     },
     "execution_count": 17,
     "metadata": {},
     "output_type": "execute_result"
    }
   ],
   "source": [
    "df.corr()"
   ]
  },
  {
   "cell_type": "code",
   "execution_count": 19,
   "metadata": {},
   "outputs": [
    {
     "data": {
      "text/html": [
       "<div>\n",
       "<style scoped>\n",
       "    .dataframe tbody tr th:only-of-type {\n",
       "        vertical-align: middle;\n",
       "    }\n",
       "\n",
       "    .dataframe tbody tr th {\n",
       "        vertical-align: top;\n",
       "    }\n",
       "\n",
       "    .dataframe thead th {\n",
       "        text-align: right;\n",
       "    }\n",
       "</style>\n",
       "<table border=\"1\" class=\"dataframe\">\n",
       "  <thead>\n",
       "    <tr style=\"text-align: right;\">\n",
       "      <th></th>\n",
       "      <th>id</th>\n",
       "      <th>chol</th>\n",
       "      <th>stab.glu</th>\n",
       "      <th>hdl</th>\n",
       "      <th>ratio</th>\n",
       "      <th>glyhb</th>\n",
       "      <th>height</th>\n",
       "      <th>weight</th>\n",
       "      <th>bp.1s</th>\n",
       "      <th>bp.1d</th>\n",
       "      <th>waist</th>\n",
       "      <th>hip</th>\n",
       "    </tr>\n",
       "  </thead>\n",
       "  <tbody>\n",
       "    <tr>\n",
       "      <th>id</th>\n",
       "      <td>1.000000</td>\n",
       "      <td>0.059243</td>\n",
       "      <td>0.009315</td>\n",
       "      <td>0.059255</td>\n",
       "      <td>0.034094</td>\n",
       "      <td>0.010378</td>\n",
       "      <td>0.036948</td>\n",
       "      <td>0.018658</td>\n",
       "      <td>0.013715</td>\n",
       "      <td>0.084001</td>\n",
       "      <td>0.008123</td>\n",
       "      <td>0.048658</td>\n",
       "    </tr>\n",
       "    <tr>\n",
       "      <th>chol</th>\n",
       "      <td>0.059243</td>\n",
       "      <td>1.000000</td>\n",
       "      <td>0.150092</td>\n",
       "      <td>0.186581</td>\n",
       "      <td>0.475521</td>\n",
       "      <td>0.247099</td>\n",
       "      <td>0.058858</td>\n",
       "      <td>0.066889</td>\n",
       "      <td>0.203344</td>\n",
       "      <td>0.171605</td>\n",
       "      <td>0.124489</td>\n",
       "      <td>0.079402</td>\n",
       "    </tr>\n",
       "    <tr>\n",
       "      <th>stab.glu</th>\n",
       "      <td>0.009315</td>\n",
       "      <td>0.150092</td>\n",
       "      <td>1.000000</td>\n",
       "      <td>0.161899</td>\n",
       "      <td>0.280349</td>\n",
       "      <td>0.749236</td>\n",
       "      <td>0.090669</td>\n",
       "      <td>0.185453</td>\n",
       "      <td>0.166467</td>\n",
       "      <td>0.022014</td>\n",
       "      <td>0.218446</td>\n",
       "      <td>0.133502</td>\n",
       "    </tr>\n",
       "    <tr>\n",
       "      <th>hdl</th>\n",
       "      <td>0.059255</td>\n",
       "      <td>0.186581</td>\n",
       "      <td>0.161899</td>\n",
       "      <td>1.000000</td>\n",
       "      <td>0.686907</td>\n",
       "      <td>0.149145</td>\n",
       "      <td>0.101419</td>\n",
       "      <td>0.290983</td>\n",
       "      <td>0.019804</td>\n",
       "      <td>0.065732</td>\n",
       "      <td>0.268369</td>\n",
       "      <td>0.210060</td>\n",
       "    </tr>\n",
       "    <tr>\n",
       "      <th>ratio</th>\n",
       "      <td>0.034094</td>\n",
       "      <td>0.475521</td>\n",
       "      <td>0.280349</td>\n",
       "      <td>0.686907</td>\n",
       "      <td>1.000000</td>\n",
       "      <td>0.328665</td>\n",
       "      <td>0.094335</td>\n",
       "      <td>0.281649</td>\n",
       "      <td>0.119386</td>\n",
       "      <td>0.048193</td>\n",
       "      <td>0.304162</td>\n",
       "      <td>0.194622</td>\n",
       "    </tr>\n",
       "    <tr>\n",
       "      <th>glyhb</th>\n",
       "      <td>0.010378</td>\n",
       "      <td>0.247099</td>\n",
       "      <td>0.749236</td>\n",
       "      <td>0.149145</td>\n",
       "      <td>0.328665</td>\n",
       "      <td>1.000000</td>\n",
       "      <td>0.063023</td>\n",
       "      <td>0.171882</td>\n",
       "      <td>0.197936</td>\n",
       "      <td>0.032375</td>\n",
       "      <td>0.226184</td>\n",
       "      <td>0.141401</td>\n",
       "    </tr>\n",
       "    <tr>\n",
       "      <th>height</th>\n",
       "      <td>0.036948</td>\n",
       "      <td>0.058858</td>\n",
       "      <td>0.090669</td>\n",
       "      <td>0.101419</td>\n",
       "      <td>0.094335</td>\n",
       "      <td>0.063023</td>\n",
       "      <td>1.000000</td>\n",
       "      <td>0.251251</td>\n",
       "      <td>0.047827</td>\n",
       "      <td>0.038598</td>\n",
       "      <td>0.051094</td>\n",
       "      <td>0.107832</td>\n",
       "    </tr>\n",
       "    <tr>\n",
       "      <th>weight</th>\n",
       "      <td>0.018658</td>\n",
       "      <td>0.066889</td>\n",
       "      <td>0.185453</td>\n",
       "      <td>0.290983</td>\n",
       "      <td>0.281649</td>\n",
       "      <td>0.171882</td>\n",
       "      <td>0.251251</td>\n",
       "      <td>1.000000</td>\n",
       "      <td>0.090873</td>\n",
       "      <td>0.175956</td>\n",
       "      <td>0.849855</td>\n",
       "      <td>0.829115</td>\n",
       "    </tr>\n",
       "    <tr>\n",
       "      <th>bp.1s</th>\n",
       "      <td>0.013715</td>\n",
       "      <td>0.203344</td>\n",
       "      <td>0.166467</td>\n",
       "      <td>0.019804</td>\n",
       "      <td>0.119386</td>\n",
       "      <td>0.197936</td>\n",
       "      <td>0.047827</td>\n",
       "      <td>0.090873</td>\n",
       "      <td>1.000000</td>\n",
       "      <td>0.596557</td>\n",
       "      <td>0.196489</td>\n",
       "      <td>0.136655</td>\n",
       "    </tr>\n",
       "    <tr>\n",
       "      <th>bp.1d</th>\n",
       "      <td>0.084001</td>\n",
       "      <td>0.171605</td>\n",
       "      <td>0.022014</td>\n",
       "      <td>0.065732</td>\n",
       "      <td>0.048193</td>\n",
       "      <td>0.032375</td>\n",
       "      <td>0.038598</td>\n",
       "      <td>0.175956</td>\n",
       "      <td>0.596557</td>\n",
       "      <td>1.000000</td>\n",
       "      <td>0.167110</td>\n",
       "      <td>0.145805</td>\n",
       "    </tr>\n",
       "    <tr>\n",
       "      <th>waist</th>\n",
       "      <td>0.008123</td>\n",
       "      <td>0.124489</td>\n",
       "      <td>0.218446</td>\n",
       "      <td>0.268369</td>\n",
       "      <td>0.304162</td>\n",
       "      <td>0.226184</td>\n",
       "      <td>0.051094</td>\n",
       "      <td>0.849855</td>\n",
       "      <td>0.196489</td>\n",
       "      <td>0.167110</td>\n",
       "      <td>1.000000</td>\n",
       "      <td>0.837080</td>\n",
       "    </tr>\n",
       "    <tr>\n",
       "      <th>hip</th>\n",
       "      <td>0.048658</td>\n",
       "      <td>0.079402</td>\n",
       "      <td>0.133502</td>\n",
       "      <td>0.210060</td>\n",
       "      <td>0.194622</td>\n",
       "      <td>0.141401</td>\n",
       "      <td>0.107832</td>\n",
       "      <td>0.829115</td>\n",
       "      <td>0.136655</td>\n",
       "      <td>0.145805</td>\n",
       "      <td>0.837080</td>\n",
       "      <td>1.000000</td>\n",
       "    </tr>\n",
       "  </tbody>\n",
       "</table>\n",
       "</div>"
      ],
      "text/plain": [
       "                id      chol  stab.glu       hdl     ratio     glyhb  \\\n",
       "id        1.000000  0.059243  0.009315  0.059255  0.034094  0.010378   \n",
       "chol      0.059243  1.000000  0.150092  0.186581  0.475521  0.247099   \n",
       "stab.glu  0.009315  0.150092  1.000000  0.161899  0.280349  0.749236   \n",
       "hdl       0.059255  0.186581  0.161899  1.000000  0.686907  0.149145   \n",
       "ratio     0.034094  0.475521  0.280349  0.686907  1.000000  0.328665   \n",
       "glyhb     0.010378  0.247099  0.749236  0.149145  0.328665  1.000000   \n",
       "height    0.036948  0.058858  0.090669  0.101419  0.094335  0.063023   \n",
       "weight    0.018658  0.066889  0.185453  0.290983  0.281649  0.171882   \n",
       "bp.1s     0.013715  0.203344  0.166467  0.019804  0.119386  0.197936   \n",
       "bp.1d     0.084001  0.171605  0.022014  0.065732  0.048193  0.032375   \n",
       "waist     0.008123  0.124489  0.218446  0.268369  0.304162  0.226184   \n",
       "hip       0.048658  0.079402  0.133502  0.210060  0.194622  0.141401   \n",
       "\n",
       "            height    weight     bp.1s     bp.1d     waist       hip  \n",
       "id        0.036948  0.018658  0.013715  0.084001  0.008123  0.048658  \n",
       "chol      0.058858  0.066889  0.203344  0.171605  0.124489  0.079402  \n",
       "stab.glu  0.090669  0.185453  0.166467  0.022014  0.218446  0.133502  \n",
       "hdl       0.101419  0.290983  0.019804  0.065732  0.268369  0.210060  \n",
       "ratio     0.094335  0.281649  0.119386  0.048193  0.304162  0.194622  \n",
       "glyhb     0.063023  0.171882  0.197936  0.032375  0.226184  0.141401  \n",
       "height    1.000000  0.251251  0.047827  0.038598  0.051094  0.107832  \n",
       "weight    0.251251  1.000000  0.090873  0.175956  0.849855  0.829115  \n",
       "bp.1s     0.047827  0.090873  1.000000  0.596557  0.196489  0.136655  \n",
       "bp.1d     0.038598  0.175956  0.596557  1.000000  0.167110  0.145805  \n",
       "waist     0.051094  0.849855  0.196489  0.167110  1.000000  0.837080  \n",
       "hip       0.107832  0.829115  0.136655  0.145805  0.837080  1.000000  "
      ]
     },
     "execution_count": 19,
     "metadata": {},
     "output_type": "execute_result"
    }
   ],
   "source": [
    "df.corr().abs()"
   ]
  },
  {
   "cell_type": "code",
   "execution_count": 18,
   "metadata": {},
   "outputs": [
    {
     "data": {
      "text/plain": [
       "hip       hip         1.000000\n",
       "waist     waist       1.000000\n",
       "chol      chol        1.000000\n",
       "stab.glu  stab.glu    1.000000\n",
       "hdl       hdl         1.000000\n",
       "                        ...   \n",
       "id        glyhb       0.010378\n",
       "stab.glu  id          0.009315\n",
       "id        stab.glu    0.009315\n",
       "waist     id          0.008123\n",
       "id        waist       0.008123\n",
       "Length: 144, dtype: float64"
      ]
     },
     "execution_count": 18,
     "metadata": {},
     "output_type": "execute_result"
    }
   ],
   "source": [
    "#absolute value first, we don't care if positive or negative\n",
    "#sort means the first few are all 1, self-correlantion\n",
    "#very useful tool \n",
    "c = df.corr().abs()\n",
    "\n",
    "#unstack makes it into a list and makes information easier to digest\n",
    "s = c.unstack()\n",
    "so = s.sort_values(kind=\"quicksort\", ascending=False)\n",
    "so"
   ]
  },
  {
   "cell_type": "code",
   "execution_count": null,
   "metadata": {},
   "outputs": [],
   "source": []
  },
  {
   "cell_type": "markdown",
   "metadata": {},
   "source": [
    "## Univariate Feature Selection\n",
    "* Statistical tests can be used to select those features that have the strongest relationship with the output variable.\n",
    "* The scikit-learn library provides the SelectKBest class that can be used with a suite of different statistical tests to select a specific number of features.\n",
    "* The example below uses the chi squared (chi^2) statistical test for non-negative features to select k of the best features from the Pima Indians onset of diabetes dataset."
   ]
  },
  {
   "cell_type": "markdown",
   "metadata": {},
   "source": [
    "Chi^2 how often categorical variables occurs. Use modules to determine which variables to use.\n",
    "\n",
    "- Uses a variables' frequencies to determine relationship between variables.\n",
    "- Determines whether the distribution in one variable depends on the distribution of another variable"
   ]
  },
  {
   "cell_type": "code",
   "execution_count": 20,
   "metadata": {},
   "outputs": [
    {
     "name": "stdout",
     "output_type": "stream",
     "text": [
      "[ 111.52  1411.887   17.605   53.108 2175.565  127.669  181.304]\n"
     ]
    }
   ],
   "source": [
    "from sklearn.feature_selection import SelectKBest\n",
    "from sklearn.feature_selection import chi2\n",
    "\n",
    "df = pd.read_csv(\"pima_indians_diabetes.csv\")\n",
    "#Note this is not to be done in practice, dropna()\n",
    "df.dropna(inplace=True)\n",
    "\n",
    "X = df[[\"Pregnancies\", \"Glucose\", \"BloodPressure\", \"SkinThickness\", \"Insulin\", \"BMI\", \"Age\"]]\n",
    "Y = df['Outcome']\n",
    "# feature extraction, select \"4\" which are most meaninful\n",
    "test = SelectKBest(score_func=chi2, k=4)\n",
    "fit = test.fit(X, Y)\n",
    "# summarize scores, (pairwise)\n",
    "np.set_printoptions(precision=3)\n",
    "print(fit.scores_)\n"
   ]
  },
  {
   "cell_type": "code",
   "execution_count": null,
   "metadata": {},
   "outputs": [],
   "source": [
    "#Insulin, 5th, would be best predictor, can consider eliminating others \n",
    "#(lower score = cannot reject null hypothesis)\n",
    "#view the results in a dataframe\n",
    "scored_predictors = pd.concat([pd.Series(X.columns),pd.Series(fit.scores_)], axis =1)\n",
    "scored_predictors.columns = [\"Features\",\"Scores\"]\n",
    "scored_predictors"
   ]
  },
  {
   "cell_type": "code",
   "execution_count": null,
   "metadata": {},
   "outputs": [],
   "source": []
  },
  {
   "cell_type": "markdown",
   "metadata": {},
   "source": [
    "## Recursive Feature Selection / Elimination"
   ]
  },
  {
   "cell_type": "markdown",
   "metadata": {},
   "source": [
    "###  Recursive Feature Selection: Linear Regression Example"
   ]
  },
  {
   "cell_type": "code",
   "execution_count": null,
   "metadata": {},
   "outputs": [],
   "source": [
    "from sklearn.feature_selection import RFE\n",
    "from sklearn.linear_model import LinearRegression\n",
    "\n",
    "#Load data\n",
    "df = pd.read_csv(\"diabetes_missing_vals.csv\")\n",
    "df = df[[\"stab.glu\", \"hdl\", \"ratio\", \"glyhb\", \"age\", \"height\", \"weight\", \"hip\", \"chol\"]]\n",
    "df.dropna(inplace=True)\n",
    "\n",
    "#Select Features/Response\n",
    "X = df[[\"stab.glu\", \"hdl\", \"ratio\", \"glyhb\", \"age\", \"height\", \"weight\", \"hip\"]]\n",
    "Y = df[\"chol\"]\n",
    "\n",
    "#Instantiate the model\n",
    "#Note the lack of Test/Train/Split\n",
    "#Our goal is Feature Selection, not training a model \n",
    "model = LinearRegression()\n",
    "\n",
    "rfe = RFE(model, 3)\n",
    "fit = rfe.fit(X, Y)\n",
    "#Number of feature to select = 3\n",
    "#Finding the smallest sum-squared-error (SSE)\n",
    "print(\"Num Features:\",  fit.n_features_)\n",
    "print(\"Selected Features: \", fit.support_)\n",
    "print(\"Feature Ranking: \",  fit.ranking_)\n"
   ]
  },
  {
   "cell_type": "code",
   "execution_count": null,
   "metadata": {},
   "outputs": [],
   "source": []
  },
  {
   "cell_type": "markdown",
   "metadata": {},
   "source": [
    "###  Recursive Feature Elimination: Logistic Regression Example"
   ]
  },
  {
   "cell_type": "code",
   "execution_count": null,
   "metadata": {},
   "outputs": [],
   "source": [
    "#Very similar process\n",
    "#Learn more about Linear vs. Logistic Regression in the references \n",
    "\n",
    "from sklearn.feature_selection import RFE\n",
    "from sklearn.linear_model import LogisticRegression\n",
    "df = pd.read_csv(\"diabetes_missing_vals.csv\")\n",
    "\n",
    "\n",
    "df = df[[\"stab.glu\", \"hdl\", \"ratio\", \"glyhb\", \"age\", \"height\", \"weight\", \"hip\", \"chol\"]]\n",
    "df.dropna(inplace=True)\n",
    "\n",
    "X = df[[\"stab.glu\", \"hdl\", \"ratio\", \"glyhb\", \"age\", \"height\", \"weight\"]]\n",
    "Y = df[\"chol\"]\n",
    "\n",
    "\n",
    "model = LogisticRegression()\n",
    "\n",
    "\n",
    "rfe = RFE(model, 3)\n",
    "fit = rfe.fit(X, Y)\n",
    "print(\"Num Features:\",  fit.n_features_)\n",
    "print(\"Selected Features: \", fit.support_)\n",
    "print(\"Feature Ranking: \",  fit.ranking_)\n",
    "\n",
    "#Note the differences between suggested feature in Linear vs. Logistic Regression "
   ]
  },
  {
   "cell_type": "markdown",
   "metadata": {},
   "source": [
    "#### Outcome of feature elimination\n",
    "\n",
    "We can see the outcome from our feature selection if we use the suggested features. Note that this would probably not be done in practice in this exact same way (more clearning, validation would follow) but you can see the (incremental) benefit of our feature selection from our Linear Regression above:"
   ]
  },
  {
   "cell_type": "code",
   "execution_count": null,
   "metadata": {},
   "outputs": [],
   "source": [
    "from sklearn.linear_model import LinearRegression\n",
    "from sklearn.model_selection import train_test_split\n",
    "\n",
    "df = pd.read_csv(\"diabetes_missing_vals.csv\")\n",
    "df = df[[\"stab.glu\", \"hdl\", \"ratio\", \"glyhb\", \"age\", \"height\", \"weight\", \"hip\", \"chol\"]]\n",
    "df.dropna(inplace=True)\n",
    "\n",
    "#Calculate Score with all Variables\n",
    "X_all = df[[\"stab.glu\", \"hdl\", \"ratio\", \"glyhb\", \"age\", \"height\", \"weight\", \"hip\"]]\n",
    "y_all = df[\"chol\"]\n",
    "\n",
    "\n",
    "X_all_train, X_all_test, y_all_train, y_all_test = train_test_split(X_all, y_all, test_size=0.20, random_state = 1)\n",
    "model = LinearRegression()\n",
    "model.fit(X_all_train, y_all_train)\n",
    "\n",
    "y_pred = model.predict(X_all_test)\n",
    "print(\"The score for all variables is:\",model.score(X_all_test, y_all_test))\n",
    "\n",
    "#Caluculate SCore with selected/reduced variables based on info from RFE\n",
    "X_reduc = df[[ \"hdl\", \"ratio\", \"height\"]]\n",
    "y_reduc = df[\"chol\"]\n",
    "\n",
    "\n",
    "X_reduc_train, X_reduc_test, y_reduc_train, y_reduc_test = train_test_split(X_reduc, y_reduc, test_size=0.20, random_state = 1)\n",
    "model = LinearRegression()\n",
    "model.fit(X_reduc_train, y_reduc_train)\n",
    "\n",
    "y_pred = model.predict(X_reduc_test)\n",
    "print(\"The score for all variables is:\",model.score(X_reduc_test, y_reduc_test))"
   ]
  },
  {
   "cell_type": "code",
   "execution_count": null,
   "metadata": {},
   "outputs": [],
   "source": []
  },
  {
   "cell_type": "markdown",
   "metadata": {
    "collapsed": true
   },
   "source": [
    "## Random Forest"
   ]
  },
  {
   "cell_type": "markdown",
   "metadata": {},
   "source": [
    "#### The Data\n",
    "\n",
    "This dataset is originally from the National Institute of Diabetes and Digestive and Kidney Diseases. The objective of the dataset is to diagnostically predict whether or not a patient has diabetes, based on certain diagnostic measurements included in the dataset. Several constraints were placed on the selection of these instances from a larger database. In particular, all patients here are females at least 21 years old of Pima Indian heritage.\n",
    "\n",
    "https://www.kaggle.com/uciml/pima-indians-diabetes-database/version/1#\n"
   ]
  },
  {
   "cell_type": "code",
   "execution_count": null,
   "metadata": {},
   "outputs": [],
   "source": [
    "# read the data into a Pandas DataFrame\n",
    "import pandas as pd\n",
    "import numpy as np\n",
    "import matplotlib.pyplot as plt\n",
    "\n",
    "df = pd.read_csv('pima_indians_diabetes.csv')\n",
    "df.head()\n"
   ]
  },
  {
   "cell_type": "markdown",
   "metadata": {},
   "source": [
    "#### Random Forest Regression"
   ]
  },
  {
   "cell_type": "code",
   "execution_count": null,
   "metadata": {},
   "outputs": [],
   "source": [
    "# define X and y\n",
    "X = df[['Pregnancies', 'BloodPressure', 'SkinThickness', 'Insulin',\n",
    "       'BMI', 'DiabetesPedigreeFunction', 'Age']]\n",
    "\n",
    "#looking to predict a glucose value\n",
    "y = df['Glucose']"
   ]
  },
  {
   "cell_type": "code",
   "execution_count": null,
   "metadata": {},
   "outputs": [],
   "source": [
    "# split X and y into training and testing sets\n",
    "from sklearn.model_selection import train_test_split\n",
    "X_train, X_test, y_train, y_test = train_test_split(X, y, test_size=0.20, random_state=1)"
   ]
  },
  {
   "cell_type": "code",
   "execution_count": null,
   "metadata": {},
   "outputs": [],
   "source": [
    "from sklearn.ensemble import RandomForestRegressor\n",
    "\n",
    "# instantiate model\n",
    "# max 10 decision points, any further = pruning \n",
    "model = RandomForestRegressor(random_state=1, max_depth=10)\n",
    "\n",
    "# fit model\n",
    "model.fit(X_train, y_train)"
   ]
  },
  {
   "cell_type": "code",
   "execution_count": null,
   "metadata": {},
   "outputs": [],
   "source": [
    "# make estimations for the testing set\n",
    "y_pred = model.predict(X_test)\n",
    "y_pred"
   ]
  },
  {
   "cell_type": "code",
   "execution_count": null,
   "metadata": {},
   "outputs": [],
   "source": [
    "#finding the ranking of features/variables\n",
    "features = X.columns\n",
    "print(features)\n",
    "importances = model.feature_importances_\n",
    "print(importances)\n",
    "#higher the value, higher the importance\n",
    "#consider dimensions with more importance"
   ]
  },
  {
   "cell_type": "markdown",
   "metadata": {},
   "source": [
    "Some additional validation for review"
   ]
  },
  {
   "cell_type": "code",
   "execution_count": null,
   "metadata": {},
   "outputs": [],
   "source": [
    "#note that low correlation can still be a good predictor \n",
    "df[['Insulin','Glucose']].corr()"
   ]
  },
  {
   "cell_type": "code",
   "execution_count": null,
   "metadata": {},
   "outputs": [],
   "source": [
    "indices = np.argsort(importances)[-9:]  # top 10 features\n",
    "plt.title('Feature Importances')\n",
    "plt.barh(range(len(indices)), importances[indices], color='b', align='center')\n",
    "plt.yticks(range(len(indices)), [features[i] for i in indices])\n",
    "plt.xlabel('Relative Importance')\n",
    "plt.show()"
   ]
  },
  {
   "cell_type": "code",
   "execution_count": null,
   "metadata": {},
   "outputs": [],
   "source": []
  },
  {
   "cell_type": "markdown",
   "metadata": {},
   "source": [
    "#### Random Forest Classification\n"
   ]
  },
  {
   "cell_type": "code",
   "execution_count": null,
   "metadata": {},
   "outputs": [],
   "source": [
    "# define X and y\n",
    "X = df[['Pregnancies', 'Glucose', 'BloodPressure', 'SkinThickness', 'Insulin',\n",
    "       'BMI', 'DiabetesPedigreeFunction', 'Age']]\n",
    "\n",
    "#looking to predict a binary outcome of having diabetes\n",
    "y = df['Outcome']"
   ]
  },
  {
   "cell_type": "code",
   "execution_count": null,
   "metadata": {},
   "outputs": [],
   "source": [
    "# split X and y into training and testing sets\n",
    "from sklearn.model_selection import train_test_split\n",
    "X_train, X_test, y_train, y_test = train_test_split(X, y, test_size=0.20, random_state=1)"
   ]
  },
  {
   "cell_type": "code",
   "execution_count": null,
   "metadata": {},
   "outputs": [],
   "source": [
    "#Note the difference for what we import\n",
    "#Change from \"RF Regressor\" to \"RF Classifer\"\n",
    "from sklearn.ensemble import RandomForestClassifier\n",
    "\n",
    "# instantiate model\n",
    "model = RandomForestClassifier(random_state=1, max_depth=10)\n",
    "\n",
    "# fit model\n",
    "model.fit(X_train, y_train)"
   ]
  },
  {
   "cell_type": "code",
   "execution_count": null,
   "metadata": {},
   "outputs": [],
   "source": [
    "# make estimations for the testing set\n",
    "y_pred = model.predict(X_test)\n",
    "y_pred"
   ]
  },
  {
   "cell_type": "code",
   "execution_count": null,
   "metadata": {},
   "outputs": [],
   "source": [
    "#finding the ranking of features/variables\n",
    "features = X.columns\n",
    "print(features)\n",
    "importances = model.feature_importances_\n",
    "print(importances)\n",
    "#higher the value, higher the importance, consider for more importance"
   ]
  },
  {
   "cell_type": "code",
   "execution_count": null,
   "metadata": {},
   "outputs": [],
   "source": [
    "#Note the difference in Classification variables/features compared to our Regression ranking\n",
    "indices = np.argsort(importances)[-9:]  # top 10 features\n",
    "plt.title('Feature Importances')\n",
    "plt.barh(range(len(indices)), importances[indices], color='b', align='center')\n",
    "plt.yticks(range(len(indices)), [features[i] for i in indices])\n",
    "plt.xlabel('Relative Importance')\n",
    "plt.show()"
   ]
  },
  {
   "cell_type": "code",
   "execution_count": null,
   "metadata": {},
   "outputs": [],
   "source": []
  },
  {
   "cell_type": "markdown",
   "metadata": {},
   "source": [
    "## Factor Analysis\n",
    "* Highly correlated features can be grouped by their correlations\n",
    "* All variables in a particular group can be highly correlated among themselves but have low correlation with variables of other group(s). \n",
    "* Each group represents a single underlying construct or factor. \n",
    "* These factors are smaller in number as compared to large number of dimensions. \n"
   ]
  },
  {
   "cell_type": "code",
   "execution_count": null,
   "metadata": {},
   "outputs": [],
   "source": [
    "from sklearn.decomposition import FactorAnalysis\n",
    "import matplotlib.pyplot as plt\n",
    "\n",
    "df = pd.read_csv(\"diabetes_missing_vals.csv\")\n",
    "\n",
    "X = df[[\"stab.glu\", \"hdl\", \"ratio\", \"glyhb\", \"age\", \"height\", \"weight\", \"hip\"]]\n",
    "X.dropna(inplace=True)\n",
    "\n",
    "FA = FactorAnalysis(n_components = 3).fit_transform(X.values)"
   ]
  },
  {
   "cell_type": "code",
   "execution_count": null,
   "metadata": {},
   "outputs": [],
   "source": [
    "# Convert factor components into a dataframe\n",
    "fa_df = pd.DataFrame(data=FA, columns=['component1','component2','component3'])\n",
    "fa_df.head()"
   ]
  },
  {
   "cell_type": "code",
   "execution_count": null,
   "metadata": {},
   "outputs": [],
   "source": [
    "X.shape"
   ]
  },
  {
   "cell_type": "code",
   "execution_count": null,
   "metadata": {},
   "outputs": [],
   "source": [
    "fa_df.shape"
   ]
  },
  {
   "cell_type": "code",
   "execution_count": null,
   "metadata": {},
   "outputs": [],
   "source": [
    "df_concat = pd.concat([X, fa_df], axis=1)\n",
    "df_concat.head()"
   ]
  },
  {
   "cell_type": "code",
   "execution_count": null,
   "metadata": {},
   "outputs": [],
   "source": [
    "plt.figure(figsize=(12,8))\n",
    "plt.title('Factor Analysis Components')\n",
    "plt.scatter(FA[:,0], FA[:,1])\n",
    "plt.scatter(FA[:,1], FA[:,2])\n",
    "plt.scatter(FA[:,2],FA[:,0])"
   ]
  },
  {
   "cell_type": "markdown",
   "metadata": {},
   "source": [
    "## Principal Component Analysis\n",
    "* Features are transformed into a new set of features\n",
    "* These new features are linear combination of original features. \n",
    "* These new sets of features are known as principal components. \n",
    "* They are obtained in such a way that first principle component accounts for most of the possible variation of original data\n",
    "* Each succeeding component has the highest possible variance\n",
    "* The second principal component must be orthogonal to the first principal component. In other words, it does its best to capture the variance in the data that is not captured by the first principal component. \n",
    "\n"
   ]
  },
  {
   "cell_type": "code",
   "execution_count": null,
   "metadata": {},
   "outputs": [],
   "source": [
    "from sklearn.decomposition import PCA\n",
    "\n",
    "df = pd.read_csv(\"pima_indians_diabetes.csv\")\n",
    "df.dropna(inplace=True)\n",
    "\n",
    "X = df[[\"Pregnancies\", \"Glucose\", \"BloodPressure\", \"SkinThickness\", \"Insulin\", \"BMI\", \"Age\"]]\n",
    "Y = df['Outcome']\n",
    "\n",
    "# feature extraction\n",
    "pca = PCA(n_components=2)\n",
    "fit = pca.fit(X)\n",
    "# summarize components\n",
    "print(\"Explained Variance:\", fit.explained_variance_ratio_)\n",
    "print(\"Components: \")\n"
   ]
  },
  {
   "cell_type": "code",
   "execution_count": null,
   "metadata": {},
   "outputs": [],
   "source": [
    "# Convert principal components into a dataframe\n",
    "principalComponents = pca.fit_transform(X)\n",
    "pca_df = pd.DataFrame(data=principalComponents, columns=['component1','component2'])\n",
    "pca_df.head()\n"
   ]
  },
  {
   "cell_type": "code",
   "execution_count": null,
   "metadata": {},
   "outputs": [],
   "source": [
    "print(\"Original dataframe shape: \")\n",
    "print(df.shape)\n",
    "print(\"PCA dataframe shape: \")\n",
    "print(pca_df.shape)"
   ]
  },
  {
   "cell_type": "code",
   "execution_count": null,
   "metadata": {},
   "outputs": [],
   "source": [
    "# Plot PCA results\n",
    "# colors = ['r', 'g']\n",
    "rng = np.random.RandomState(0)\n",
    "colors = rng.rand(100)\n",
    "pca_df.plot.scatter(x='component1', y='component2', c=colors)"
   ]
  },
  {
   "cell_type": "code",
   "execution_count": null,
   "metadata": {},
   "outputs": [],
   "source": []
  }
 ],
 "metadata": {
  "kernelspec": {
   "display_name": "Python 3",
   "language": "python",
   "name": "python3"
  },
  "language_info": {
   "codemirror_mode": {
    "name": "ipython",
    "version": 3
   },
   "file_extension": ".py",
   "mimetype": "text/x-python",
   "name": "python",
   "nbconvert_exporter": "python",
   "pygments_lexer": "ipython3",
   "version": "3.7.6"
  }
 },
 "nbformat": 4,
 "nbformat_minor": 2
}
